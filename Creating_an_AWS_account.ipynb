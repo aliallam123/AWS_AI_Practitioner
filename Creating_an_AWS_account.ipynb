{
 "cells": [
  {
   "cell_type": "markdown",
   "metadata": {},
   "source": [
    "### Creating an AWS Account\n",
    "\n",
    "quick step-by-step guide to sign up for aws:\n",
    "\n",
    "1. go to the aws website ([aws.amazon.com](https://aws.amazon.com)) and click on **Create an AWS Account**.\n",
    "2. fill in your email address, create a password, and set an account name.\n",
    "3. complete your contact details and choose whether you want a personal or business account.\n",
    "4. enter your payment information (you’ll need a credit or debit card, but aws has a free tier so you won’t necessarily get charged immediately).\n",
    "5. verify your identity by phone call or text message (they send you a code, you enter it to verify).\n",
    "6. choose your aws support plan (for most of us, the **Basic Plan** is fine since it's free).\n",
    "7. after signup, you’ll get a confirmation email—click the link in the email to confirm and activate your account.\n",
    "\n",
    "after you’re done with this, you can log in to the aws console and start playing around with aws services."
   ]
  },
  {
   "cell_type": "markdown",
   "metadata": {},
   "source": []
  }
 ],
 "metadata": {
  "language_info": {
   "name": "python"
  }
 },
 "nbformat": 4,
 "nbformat_minor": 2
}
