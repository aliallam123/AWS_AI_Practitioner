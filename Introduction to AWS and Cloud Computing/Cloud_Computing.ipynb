{
 "cells": [
  {
   "cell_type": "markdown",
   "metadata": {},
   "source": [
    "### Cloud Computing"
   ]
  },
  {
   "cell_type": "markdown",
   "metadata": {},
   "source": [
    "On-demand delivery of compute power, database storage applications and other IT resources"
   ]
  },
  {
   "cell_type": "markdown",
   "metadata": {},
   "source": [
    "Through a cloud services platform with pay-as-you-go pricing"
   ]
  },
  {
   "cell_type": "markdown",
   "metadata": {},
   "source": [
    "You can provision exactly the right type and size of computing resources you need. You can access as many resources as you need, almost instantly. "
   ]
  },
  {
   "cell_type": "markdown",
   "metadata": {},
   "source": [
    "For example - Gmail, Dropbox, Netflix (built on AWS and gives videos on demand)"
   ]
  },
  {
   "cell_type": "markdown",
   "metadata": {},
   "source": [
    "### The deployment models of the cloud"
   ]
  },
  {
   "cell_type": "markdown",
   "metadata": {},
   "source": [
    "Private cloud - used by a single organisation, complete control, security for sensitive applications, meets specififc business needs\n",
    "\n",
    "Public Cloud - Azur, GCP, AWS. cloud resources owned and operated by a third-party cloud service provider delivered over the internet.\n",
    "\n",
    "Hybrid cloud - keep some servers on prmises and extend some capabilities to te cloud, control over sensitive assets but flexibility and cost effectiveness with third party services\n"
   ]
  },
  {
   "cell_type": "markdown",
   "metadata": {},
   "source": [
    "Five Characteristics of cloud computing:\n",
    "\n",
    "1) on demand self service\n",
    "\n",
    "2) broad network access\n",
    "\n",
    "3) multi-tenancy and resource pooling \n",
    "\n",
    "4) rapid elasticity and scalability\n",
    "\n",
    "5) measured service"
   ]
  },
  {
   "cell_type": "markdown",
   "metadata": {},
   "source": [
    "Six advantages of cloud computing :\n",
    "1. trade capital expense (CAPEX) for operational expense (OPEX)\n",
    "pay on demand and dont own hardware\n",
    "2. benefit from massive economies of scale like AWS\n",
    "3. stop guessing capacity - cale based on actual measured usage\n",
    "4. increased speed and agility\n",
    "5. stop spending money running and maintaining data centres\n",
    "6. go global in minutes leveraging the AWS global infrastructure "
   ]
  }
 ],
 "metadata": {
  "kernelspec": {
   "display_name": "Python 3",
   "language": "python",
   "name": "python3"
  },
  "language_info": {
   "name": "python",
   "version": "3.13.2"
  }
 },
 "nbformat": 4,
 "nbformat_minor": 2
}
