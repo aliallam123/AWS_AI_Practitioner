{
 "cells": [
  {
   "cell_type": "markdown",
   "metadata": {},
   "source": [
    "# Types of Cloud Computing\n",
    "Cloud computing generally falls into three main categories:\n",
    "\n",
    "### 1. Infrastructure as a Service (IaaS)\n",
    "Infrastructure as a Service provides virtualised computing resources over the internet. With IaaS, users manage their own operating systems, applications, and data, while the cloud provider manages the underlying hardware, networking, storage, and virtualisation.\n",
    "\n",
    "AWS examples of IaaS:\n",
    "\n",
    "Amazon EC2 (Elastic Compute Cloud)\n",
    "\n",
    "Amazon S3 (Simple Storage Service)\n",
    "\n",
    "Amazon VPC (Virtual Private Cloud)\n",
    "\n",
    "### 2. Platform as a Service (PaaS)\n",
    "Platform as a Service provides a managed environment that allows users to deploy applications without having to manage the underlying infrastructure. Users manage their applications and data; the cloud provider manages operating systems, security, middleware, networking, storage, and virtualisation.\n",
    "\n",
    "AWS examples of PaaS:\n",
    "\n",
    "AWS Elastic Beanstalk\n",
    "\n",
    "Amazon SageMaker (for AI/ML workloads)\n",
    "\n",
    "AWS Lambda (serverless compute)\n",
    "\n",
    "### 3. Software as a Service (SaaS)\n",
    "Software as a Service delivers fully managed software applications accessible via web browsers. The cloud provider manages the entire infrastructure stack, application hosting, and data management.\n",
    "\n",
    "AWS examples of SaaS:\n",
    "\n",
    "Amazon Rekognition (Image/video recognition)\n",
    "\n",
    "Amazon Polly (Text-to-speech)\n",
    "\n",
    "AWS Trusted Advisor (Optimisation recommendations)"
   ]
  },
  {
   "cell_type": "markdown",
   "metadata": {},
   "source": [
    "### Quick Overview of AWS Pricing\n",
    "AWS generally follows a pay-as-you-go model, offering flexibility and scalability. Key pricing models include:\n",
    "\n",
    "On-Demand Pricing: Pay hourly or per-second rates with no upfront commitment.\n",
    "\n",
    "Example: EC2 On-demand instances charged per second or per hour.\n",
    "\n",
    "Reserved Instances (RI): Pre-pay fully or partially for discounted rates for predictable workloads (1-3 year terms).\n",
    "\n",
    "Example: EC2 Reserved Instances, significant savings over on-demand.\n",
    "\n",
    "Spot Instances: Discounted spare computing resources ideal for fault-tolerant workloads (up to 90% cheaper).\n",
    "\n",
    "Example: EC2 Spot Instances suitable for batch processing, ML training.\n",
    "\n",
    "Savings Plans: Flexible pricing for consistent usage, offering savings compared to on-demand rates in exchange for long-term commitments.\n",
    "\n",
    "Example: Compute Savings Plans covering EC2, Lambda, and Fargate."
   ]
  }
 ],
 "metadata": {
  "language_info": {
   "name": "python"
  }
 },
 "nbformat": 4,
 "nbformat_minor": 2
}
